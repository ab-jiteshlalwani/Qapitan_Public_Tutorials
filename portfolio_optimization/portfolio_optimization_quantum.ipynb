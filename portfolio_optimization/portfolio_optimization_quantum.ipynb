{
 "cells": [
  {
   "cell_type": "markdown",
   "id": "eab5d01b",
   "metadata": {},
   "source": [
    "# Portfolio Optimization Demo using Quantum Computing\n",
    "\n",
    "Easiest example on how to use the Qapitan Platform with the Portfolio Optimization solver.\n",
    "In this example we send a list of assets and their covariance matrix, as well as the budget we have, and the solver will provide us with the most efficient portfolio with the available solvers in the platform.\n",
    "This problem can be used as well for asset allocation."
   ]
  },
  {
   "cell_type": "code",
   "execution_count": 1,
   "id": "dfed9163",
   "metadata": {},
   "outputs": [],
   "source": [
    "# Import some auxiliary packages. Make sure that all packages are installed\n",
    "from Qcentroid_SDK import Qcentroid_SDK\n",
    "import time\n",
    "from IPython.display import display, clear_output"
   ]
  },
  {
   "cell_type": "code",
   "execution_count": 2,
   "id": "9b70cc46",
   "metadata": {},
   "outputs": [],
   "source": [
    "# Get your private endpoint and credentials from our team - info@qapitan.com\n",
    "QCENTROID_PUBLIC_API = \"https://api.qcentroid.xyz\"\n",
    "PAYLOAD_USER = {\"username\": \"esa_test@qcentroid.xyz\", \"password\": \"123qweQWE\"}"
   ]
  },
  {
   "cell_type": "code",
   "execution_count": 3,
   "id": "d5b0da48",
   "metadata": {},
   "outputs": [],
   "source": [
    "import json\n",
    "with open(\"JSON/portfolio_optimization.json\") as f:\n",
    "  PAYLOAD = json.load(f)"
   ]
  },
  {
   "cell_type": "code",
   "execution_count": 4,
   "id": "6677f555",
   "metadata": {},
   "outputs": [
    {
     "name": "stdout",
     "output_type": "stream",
     "text": [
      "Symbol(Ticker):\n",
      "['AACG', 'AACI', 'AACIU', 'AADI', 'AADR', 'AAL', 'AAME', 'AAOI', 'AAON', 'AAPL', 'AATC', 'AAWW', 'AAXJ', 'ABCB', 'ABCL', 'ABCM', 'ABEO', 'ABGI', 'ABIO', 'ABMD', 'ABNB', 'ABOS', 'ABSI', 'ABST']\n"
     ]
    }
   ],
   "source": [
    "print('Symbol(Ticker):')\n",
    "print(PAYLOAD['data']['tickers'])"
   ]
  },
  {
   "cell_type": "code",
   "execution_count": 5,
   "id": "9f8088e3",
   "metadata": {},
   "outputs": [
    {
     "name": "stdout",
     "output_type": "stream",
     "text": [
      "{'username': 'esa_test@qcentroid.xyz', 'password': '123qweQWE'}\n"
     ]
    }
   ],
   "source": [
    "qcentroid_api = Qcentroid_SDK(QCENTROID_PUBLIC_API, PAYLOAD_USER)"
   ]
  },
  {
   "cell_type": "code",
   "execution_count": 6,
   "id": "0816242c",
   "metadata": {},
   "outputs": [],
   "source": [
    "header = qcentroid_api.login()"
   ]
  },
  {
   "cell_type": "code",
   "execution_count": 8,
   "id": "2865cbf3",
   "metadata": {},
   "outputs": [
    {
     "name": "stdout",
     "output_type": "stream",
     "text": [
      "{'detail': 'Authorized. Processing file', 'job': 'XLVCCT9MA6A3'}\n"
     ]
    }
   ],
   "source": [
    "response_json = qcentroid_api.execute(header=header, problem='portfolio-optimization-markovitz', payload=PAYLOAD)\n",
    "print(response_json)"
   ]
  },
  {
   "cell_type": "code",
   "execution_count": 17,
   "id": "9e973559",
   "metadata": {},
   "outputs": [],
   "source": [
    "job_id = response_json['job']\n",
    "result = qcentroid_api.get_result(header=header, job_name=job_id)"
   ]
  },
  {
   "cell_type": "code",
   "execution_count": 18,
   "id": "5ff6e17b",
   "metadata": {},
   "outputs": [
    {
     "data": {
      "text/plain": [
       "{'solution': [['AACG', 0.0],\n",
       "  ['AACI', 0.0],\n",
       "  ['AACIU', 0.4989],\n",
       "  ['AADI', 0.0],\n",
       "  ['AADR', 0.0],\n",
       "  ['AAL', 9078.31],\n",
       "  ['AAME', 0.0],\n",
       "  ['AAOI', 4361568.9183],\n",
       "  ['AAON', 0.0],\n",
       "  ['AAPL', 0.0],\n",
       "  ['AATC', 0.0],\n",
       "  ['AAWW', 600.362],\n",
       "  ['AAXJ', 0.0],\n",
       "  ['ABCB', 0.0],\n",
       "  ['ABCL', 0.0],\n",
       "  ['ABCM', 2123.2735],\n",
       "  ['ABEO', 8048.3553],\n",
       "  ['ABGI', 9112.5831],\n",
       "  ['ABIO', 26093.1395],\n",
       "  ['ABMD', 455.5666],\n",
       "  ['ABNB', 791.9288],\n",
       "  ['ABOS', 0.0],\n",
       "  ['ABSI', 0.0],\n",
       "  ['ABST', 0.0]],\n",
       " 'sharpe_ratio': 0.4203181191476915,\n",
       " 'expected_return': 328466.72674316424,\n",
       " 'risk': 0.04245991752747983}"
      ]
     },
     "execution_count": 18,
     "metadata": {},
     "output_type": "execute_result"
    }
   ],
   "source": [
    "qcentroid_api.get_result(header, job_id)['job'][job_id]['executions']['artificialbrain-portfoliooptimization']['result']"
   ]
  }
 ],
 "metadata": {
  "kernelspec": {
   "display_name": "Python 3 (ipykernel)",
   "language": "python",
   "name": "python3"
  },
  "language_info": {
   "codemirror_mode": {
    "name": "ipython",
    "version": 3
   },
   "file_extension": ".py",
   "mimetype": "text/x-python",
   "name": "python",
   "nbconvert_exporter": "python",
   "pygments_lexer": "ipython3",
   "version": "3.10.4"
  }
 },
 "nbformat": 4,
 "nbformat_minor": 5
}
